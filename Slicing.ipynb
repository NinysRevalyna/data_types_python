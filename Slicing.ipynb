{
 "cells": [
  {
   "cell_type": "markdown",
   "id": "af450c97",
   "metadata": {},
   "source": [
    "# Slicing pada String"
   ]
  },
  {
   "cell_type": "markdown",
   "id": "b59a0eef",
   "metadata": {},
   "source": [
    "Because strings are similar to lists, the slicing operator [] can also be used on strings to retrieve their contents or even substrings."
   ]
  },
  {
   "cell_type": "code",
   "execution_count": 1,
   "id": "c8ceb0ca",
   "metadata": {},
   "outputs": [],
   "source": [
    "a = 'Data Science'"
   ]
  },
  {
   "cell_type": "code",
   "execution_count": 2,
   "id": "5691765d",
   "metadata": {},
   "outputs": [
    {
     "name": "stdout",
     "output_type": "stream",
     "text": [
      "t\n"
     ]
    }
   ],
   "source": [
    "print(a[2])"
   ]
  },
  {
   "cell_type": "code",
   "execution_count": 3,
   "id": "9b853c76",
   "metadata": {},
   "outputs": [
    {
     "name": "stdout",
     "output_type": "stream",
     "text": [
      "Science\n"
     ]
    }
   ],
   "source": [
    "print(a[5:12])"
   ]
  },
  {
   "cell_type": "code",
   "execution_count": 4,
   "id": "89612aeb",
   "metadata": {},
   "outputs": [],
   "source": [
    " b = ['d', 'a', 't', 'a']"
   ]
  },
  {
   "cell_type": "code",
   "execution_count": 5,
   "id": "edc59b78",
   "metadata": {},
   "outputs": [
    {
     "name": "stdout",
     "output_type": "stream",
     "text": [
      "['d', 'a', 't', 'e']\n"
     ]
    }
   ],
   "source": [
    "b[-1] = 'e' \n",
    "print(b)"
   ]
  },
  {
   "cell_type": "markdown",
   "id": "20649592",
   "metadata": {},
   "source": [
    "Task 1"
   ]
  },
  {
   "cell_type": "code",
   "execution_count": 6,
   "id": "bcc4638b",
   "metadata": {},
   "outputs": [],
   "source": [
    "c = 'Data Analyst'"
   ]
  },
  {
   "cell_type": "code",
   "execution_count": 7,
   "id": "c55e0fa1",
   "metadata": {},
   "outputs": [
    {
     "name": "stdout",
     "output_type": "stream",
     "text": [
      "Data \n"
     ]
    }
   ],
   "source": [
    "print(c[0:5])"
   ]
  },
  {
   "cell_type": "code",
   "execution_count": 8,
   "id": "9dcb2a0d",
   "metadata": {},
   "outputs": [],
   "source": [
    "d = ['h', 'a', 'l', 'l', 'o']"
   ]
  },
  {
   "cell_type": "code",
   "execution_count": 9,
   "id": "a5269526",
   "metadata": {},
   "outputs": [
    {
     "name": "stdout",
     "output_type": "stream",
     "text": [
      "['h', 'i', 'l', 'l', 'o']\n"
     ]
    }
   ],
   "source": [
    "d[1] = 'i'\n",
    "print(d)"
   ]
  }
 ],
 "metadata": {
  "kernelspec": {
   "display_name": "Python 3 (ipykernel)",
   "language": "python",
   "name": "python3"
  },
  "language_info": {
   "codemirror_mode": {
    "name": "ipython",
    "version": 3
   },
   "file_extension": ".py",
   "mimetype": "text/x-python",
   "name": "python",
   "nbconvert_exporter": "python",
   "pygments_lexer": "ipython3",
   "version": "3.11.4"
  }
 },
 "nbformat": 4,
 "nbformat_minor": 5
}
