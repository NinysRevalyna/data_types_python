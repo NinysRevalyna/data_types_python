{
 "cells": [
  {
   "cell_type": "markdown",
   "id": "758736d2",
   "metadata": {},
   "source": [
    "# Set"
   ]
  },
  {
   "cell_type": "markdown",
   "id": "b3ce465c",
   "metadata": {},
   "source": [
    "Set is a collection of items that are unique and without order (unordered collection). It is defined with curly { } and its elements are separated by commas. In sets you can perform unions and intersects, as well as automatically delete and duplicate."
   ]
  },
  {
   "cell_type": "code",
   "execution_count": 1,
   "id": "2f11a3a5",
   "metadata": {},
   "outputs": [],
   "source": [
    "a = {3, 3, 3, 4, 4, 4, 4, 5, 5, 5, 5, 5}"
   ]
  },
  {
   "cell_type": "code",
   "execution_count": 2,
   "id": "42faae3b",
   "metadata": {},
   "outputs": [
    {
     "name": "stdout",
     "output_type": "stream",
     "text": [
      "{3, 4, 5}\n"
     ]
    }
   ],
   "source": [
    "print(a)"
   ]
  },
  {
   "cell_type": "markdown",
   "id": "b455bfd3",
   "metadata": {},
   "source": [
    "# Union"
   ]
  },
  {
   "cell_type": "code",
   "execution_count": 3,
   "id": "d8067115",
   "metadata": {},
   "outputs": [],
   "source": [
    "a = {1, 2, 3}\n",
    "b = {2, 3, 4, 5}"
   ]
  },
  {
   "cell_type": "code",
   "execution_count": 4,
   "id": "88f826ea",
   "metadata": {},
   "outputs": [
    {
     "data": {
      "text/plain": [
       "{1, 2, 3, 4, 5}"
      ]
     },
     "execution_count": 4,
     "metadata": {},
     "output_type": "execute_result"
    }
   ],
   "source": [
    "a.union(b)"
   ]
  },
  {
   "cell_type": "markdown",
   "id": "e5fd1b8a",
   "metadata": {},
   "source": [
    "# Intersection"
   ]
  },
  {
   "cell_type": "code",
   "execution_count": 5,
   "id": "203e7fbd",
   "metadata": {},
   "outputs": [
    {
     "data": {
      "text/plain": [
       "{2, 3}"
      ]
     },
     "execution_count": 5,
     "metadata": {},
     "output_type": "execute_result"
    }
   ],
   "source": [
    "a.intersection(b)"
   ]
  },
  {
   "cell_type": "markdown",
   "id": "a34642d5",
   "metadata": {},
   "source": [
    "Task 1"
   ]
  },
  {
   "cell_type": "code",
   "execution_count": 6,
   "id": "62c473a2",
   "metadata": {},
   "outputs": [],
   "source": [
    "c = {'one', 2, 'three', 4, 5}\n",
    "d = {2, 4, 6, 8, 10}"
   ]
  },
  {
   "cell_type": "code",
   "execution_count": 7,
   "id": "ce2bdc09",
   "metadata": {},
   "outputs": [
    {
     "data": {
      "text/plain": [
       "{10, 2, 4, 5, 6, 8, 'one', 'three'}"
      ]
     },
     "execution_count": 7,
     "metadata": {},
     "output_type": "execute_result"
    }
   ],
   "source": [
    "c.union(d)"
   ]
  },
  {
   "cell_type": "code",
   "execution_count": 8,
   "id": "a8a8bd77",
   "metadata": {},
   "outputs": [
    {
     "data": {
      "text/plain": [
       "{2, 4}"
      ]
     },
     "execution_count": 8,
     "metadata": {},
     "output_type": "execute_result"
    }
   ],
   "source": [
    "c.intersection(d)"
   ]
  }
 ],
 "metadata": {
  "kernelspec": {
   "display_name": "Python 3 (ipykernel)",
   "language": "python",
   "name": "python3"
  },
  "language_info": {
   "codemirror_mode": {
    "name": "ipython",
    "version": 3
   },
   "file_extension": ".py",
   "mimetype": "text/x-python",
   "name": "python",
   "nbconvert_exporter": "python",
   "pygments_lexer": "ipython3",
   "version": "3.11.4"
  }
 },
 "nbformat": 4,
 "nbformat_minor": 5
}
