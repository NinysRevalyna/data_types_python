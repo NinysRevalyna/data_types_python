{
 "cells": [
  {
   "cell_type": "markdown",
   "id": "c29a5d2e",
   "metadata": {},
   "source": [
    "# Tuple"
   ]
  },
  {
   "cell_type": "markdown",
   "id": "3c463bce",
   "metadata": {},
   "source": [
    "Tuple is a type of list whose elements cannot be changed. Generally, tuples are used for data that is write-once, and can be executed more quickly. Tuples are defined with brackets and elements separated by commas."
   ]
  },
  {
   "cell_type": "code",
   "execution_count": 1,
   "id": "9baf1c0e",
   "metadata": {},
   "outputs": [],
   "source": [
    "a = (2, 'buku', 3.5)"
   ]
  },
  {
   "cell_type": "code",
   "execution_count": 2,
   "id": "e501e063",
   "metadata": {},
   "outputs": [
    {
     "name": "stdout",
     "output_type": "stream",
     "text": [
      "buku\n"
     ]
    }
   ],
   "source": [
    "print(a[1])"
   ]
  },
  {
   "cell_type": "code",
   "execution_count": 3,
   "id": "914e1fa6",
   "metadata": {},
   "outputs": [
    {
     "name": "stdout",
     "output_type": "stream",
     "text": [
      "(2, 'buku')\n"
     ]
    }
   ],
   "source": [
    "print(a[0:2])"
   ]
  }
 ],
 "metadata": {
  "kernelspec": {
   "display_name": "Python 3 (ipykernel)",
   "language": "python",
   "name": "python3"
  },
  "language_info": {
   "codemirror_mode": {
    "name": "ipython",
    "version": 3
   },
   "file_extension": ".py",
   "mimetype": "text/x-python",
   "name": "python",
   "nbconvert_exporter": "python",
   "pygments_lexer": "ipython3",
   "version": "3.11.4"
  }
 },
 "nbformat": 4,
 "nbformat_minor": 5
}
