{
 "cells": [
  {
   "cell_type": "markdown",
   "id": "b21a3230",
   "metadata": {},
   "source": [
    "Built-in data types in Python 3\n",
    "\n",
    "1. Numbers\n",
    "2. Strings\n",
    "3. Booleans"
   ]
  },
  {
   "cell_type": "markdown",
   "id": "278fabd3",
   "metadata": {},
   "source": [
    "# Numbers"
   ]
  },
  {
   "cell_type": "markdown",
   "id": "54a4e2b3",
   "metadata": {},
   "source": [
    "Numerical types in Python are divided into 3, namely: int, float, complex"
   ]
  },
  {
   "cell_type": "code",
   "execution_count": 1,
   "id": "31fe09cb",
   "metadata": {},
   "outputs": [],
   "source": [
    "a = 10"
   ]
  },
  {
   "cell_type": "code",
   "execution_count": 2,
   "id": "b125115a",
   "metadata": {},
   "outputs": [
    {
     "data": {
      "text/plain": [
       "int"
      ]
     },
     "execution_count": 2,
     "metadata": {},
     "output_type": "execute_result"
    }
   ],
   "source": [
    "type(a)"
   ]
  },
  {
   "cell_type": "code",
   "execution_count": 3,
   "id": "19be66eb",
   "metadata": {},
   "outputs": [],
   "source": [
    "b = 1.7"
   ]
  },
  {
   "cell_type": "code",
   "execution_count": 4,
   "id": "77d790f8",
   "metadata": {},
   "outputs": [
    {
     "data": {
      "text/plain": [
       "float"
      ]
     },
     "execution_count": 4,
     "metadata": {},
     "output_type": "execute_result"
    }
   ],
   "source": [
    "type(b)"
   ]
  },
  {
   "cell_type": "markdown",
   "id": "5defbdd4",
   "metadata": {},
   "source": [
    "What differentiates int from float are decimal points."
   ]
  },
  {
   "cell_type": "code",
   "execution_count": 5,
   "id": "7146188d",
   "metadata": {},
   "outputs": [],
   "source": [
    "a = 1"
   ]
  },
  {
   "cell_type": "code",
   "execution_count": 6,
   "id": "4a8cd9f9",
   "metadata": {},
   "outputs": [
    {
     "data": {
      "text/plain": [
       "int"
      ]
     },
     "execution_count": 6,
     "metadata": {},
     "output_type": "execute_result"
    }
   ],
   "source": [
    "type(a)"
   ]
  },
  {
   "cell_type": "code",
   "execution_count": 7,
   "id": "fe6c850f",
   "metadata": {},
   "outputs": [],
   "source": [
    "b = 1.0"
   ]
  },
  {
   "cell_type": "code",
   "execution_count": 8,
   "id": "437d0af6",
   "metadata": {},
   "outputs": [
    {
     "data": {
      "text/plain": [
       "float"
      ]
     },
     "execution_count": 8,
     "metadata": {},
     "output_type": "execute_result"
    }
   ],
   "source": [
    "type(b)"
   ]
  },
  {
   "cell_type": "markdown",
   "id": "a9b29df7",
   "metadata": {},
   "source": [
    "Task 1"
   ]
  },
  {
   "cell_type": "code",
   "execution_count": 9,
   "id": "7c153c96",
   "metadata": {},
   "outputs": [
    {
     "data": {
      "text/plain": [
       "int"
      ]
     },
     "execution_count": 9,
     "metadata": {},
     "output_type": "execute_result"
    }
   ],
   "source": [
    "a = 10\n",
    "b = 10.0\n",
    "type(a)"
   ]
  },
  {
   "cell_type": "markdown",
   "id": "98215585",
   "metadata": {},
   "source": [
    "Because Python is also widely used by mathematics, the number type in Python also supports imaginary numbers and complex numbers. The value of a complex number is written in the formulation x + y(j), namely the x part is a real number and y is an imaginary number. Examples are as follows:"
   ]
  },
  {
   "cell_type": "code",
   "execution_count": 10,
   "id": "d8bf9647",
   "metadata": {},
   "outputs": [
    {
     "data": {
      "text/plain": [
       "complex"
      ]
     },
     "execution_count": 10,
     "metadata": {},
     "output_type": "execute_result"
    }
   ],
   "source": [
    "c = 1+2j\n",
    "type(c)"
   ]
  },
  {
   "cell_type": "code",
   "execution_count": 11,
   "id": "b21e1c8c",
   "metadata": {},
   "outputs": [
    {
     "name": "stdout",
     "output_type": "stream",
     "text": [
      "(1+2j)\n"
     ]
    }
   ],
   "source": [
    "print(c)"
   ]
  },
  {
   "cell_type": "code",
   "execution_count": 12,
   "id": "bcc98196",
   "metadata": {},
   "outputs": [
    {
     "data": {
      "text/plain": [
       "complex"
      ]
     },
     "execution_count": 12,
     "metadata": {},
     "output_type": "execute_result"
    }
   ],
   "source": [
    "d = 4j\n",
    "type(d)"
   ]
  },
  {
   "cell_type": "markdown",
   "id": "e8be8b11",
   "metadata": {},
   "source": [
    "3 Data Types:"
   ]
  },
  {
   "cell_type": "code",
   "execution_count": 13,
   "id": "3e4986b5",
   "metadata": {},
   "outputs": [
    {
     "name": "stdout",
     "output_type": "stream",
     "text": [
      "<class 'int'>\n",
      "<class 'float'>\n",
      "<class 'complex'>\n"
     ]
    }
   ],
   "source": [
    "a1 = 1000\n",
    "b1 = 50.75\n",
    "c1 = 25+2j\n",
    "\n",
    "print(type(a1))\n",
    "print(type(b1))\n",
    "print(type(c1))"
   ]
  },
  {
   "cell_type": "code",
   "execution_count": 14,
   "id": "3a40acf7",
   "metadata": {},
   "outputs": [
    {
     "name": "stdout",
     "output_type": "stream",
     "text": [
      "<class 'int'> <class 'float'> <class 'complex'>\n"
     ]
    }
   ],
   "source": [
    "print(type(a1),\n",
    "      type(b1),\n",
    "      type(c1))"
   ]
  },
  {
   "cell_type": "markdown",
   "id": "dc94a45b",
   "metadata": {},
   "source": [
    "# String"
   ]
  },
  {
   "cell_type": "code",
   "execution_count": 15,
   "id": "1a4283f9",
   "metadata": {},
   "outputs": [
    {
     "name": "stdout",
     "output_type": "stream",
     "text": [
      "Hello World\n"
     ]
    }
   ],
   "source": [
    "a = 'Hello World'\n",
    "print(a)"
   ]
  },
  {
   "cell_type": "code",
   "execution_count": 16,
   "id": "29ab8183",
   "metadata": {},
   "outputs": [
    {
     "name": "stdout",
     "output_type": "stream",
     "text": [
      "Pathway Data Analyst\n",
      "Kampus Merdeka X MyEduSolve\n",
      "Kelas D.\n"
     ]
    }
   ],
   "source": [
    "b = \"\"\"Pathway Data Analyst\n",
    "Kampus Merdeka X MyEduSolve\n",
    "Kelas D.\"\"\"\n",
    "print(b)"
   ]
  },
  {
   "cell_type": "code",
   "execution_count": 17,
   "id": "9b120e50",
   "metadata": {},
   "outputs": [
    {
     "name": "stdout",
     "output_type": "stream",
     "text": [
      "Pathway Data Analyst. \n",
      "Kampus Merdeka X MyEduSolve. \n",
      "Kelas D\n"
     ]
    }
   ],
   "source": [
    "c = \"Pathway Data Analyst. \\nKampus Merdeka X MyEduSolve. \\nKelas D\"\n",
    "print(c)"
   ]
  },
  {
   "cell_type": "markdown",
   "id": "a275e997",
   "metadata": {},
   "source": [
    "Task 2"
   ]
  },
  {
   "cell_type": "code",
   "execution_count": 18,
   "id": "773dc4f3",
   "metadata": {},
   "outputs": [
    {
     "name": "stdout",
     "output_type": "stream",
     "text": [
      "Ninys Revalyna\n"
     ]
    }
   ],
   "source": [
    "a1 = 'Ninys Revalyna'\n",
    "print(a1)"
   ]
  },
  {
   "cell_type": "code",
   "execution_count": 19,
   "id": "5697ea36",
   "metadata": {},
   "outputs": [
    {
     "name": "stdout",
     "output_type": "stream",
     "text": [
      "Ninys Revalyna\n",
      "Pathway Data Analyst\n",
      "Kelas D\n"
     ]
    }
   ],
   "source": [
    "a2 = \"\"\"Ninys Revalyna\n",
    "Pathway Data Analyst\n",
    "Kelas D\"\"\"\n",
    "print(a2)"
   ]
  },
  {
   "cell_type": "code",
   "execution_count": 20,
   "id": "879587e6",
   "metadata": {},
   "outputs": [
    {
     "name": "stdout",
     "output_type": "stream",
     "text": [
      "Ninys Revalyna\n",
      "Pathway Data Analyst\n",
      "Kelas D\n"
     ]
    }
   ],
   "source": [
    "a3 = 'Ninys Revalyna\\nPathway Data Analyst\\nKelas D'\n",
    "print(a3)"
   ]
  },
  {
   "cell_type": "code",
   "execution_count": 21,
   "id": "30654a08",
   "metadata": {},
   "outputs": [
    {
     "data": {
      "text/plain": [
       "\"Jum'at\""
      ]
     },
     "execution_count": 21,
     "metadata": {},
     "output_type": "execute_result"
    }
   ],
   "source": [
    "\"Jum'at\""
   ]
  },
  {
   "cell_type": "code",
   "execution_count": 22,
   "id": "482972c0",
   "metadata": {},
   "outputs": [
    {
     "name": "stdout",
     "output_type": "stream",
     "text": [
      "Jum'at\n"
     ]
    }
   ],
   "source": [
    "print(\"Jum'at\")"
   ]
  },
  {
   "cell_type": "markdown",
   "id": "460a474f",
   "metadata": {},
   "source": [
    "# Boolean"
   ]
  },
  {
   "cell_type": "markdown",
   "id": "4103fd69",
   "metadata": {},
   "source": [
    "The bool or boolean data type is a derivative of an integer (integer or int) which only has two constant values: True and False."
   ]
  },
  {
   "cell_type": "code",
   "execution_count": 23,
   "id": "0c8ae51b",
   "metadata": {},
   "outputs": [
    {
     "data": {
      "text/plain": [
       "False"
      ]
     },
     "execution_count": 23,
     "metadata": {},
     "output_type": "execute_result"
    }
   ],
   "source": [
    "2 > 5"
   ]
  },
  {
   "cell_type": "code",
   "execution_count": 24,
   "id": "53bc738a",
   "metadata": {},
   "outputs": [
    {
     "data": {
      "text/plain": [
       "False"
      ]
     },
     "execution_count": 24,
     "metadata": {},
     "output_type": "execute_result"
    }
   ],
   "source": [
    "2 == 5"
   ]
  },
  {
   "cell_type": "code",
   "execution_count": 25,
   "id": "17099b18",
   "metadata": {},
   "outputs": [
    {
     "data": {
      "text/plain": [
       "True"
      ]
     },
     "execution_count": 25,
     "metadata": {},
     "output_type": "execute_result"
    }
   ],
   "source": [
    "2 <= 5"
   ]
  },
  {
   "cell_type": "code",
   "execution_count": 26,
   "id": "92310c28",
   "metadata": {},
   "outputs": [
    {
     "data": {
      "text/plain": [
       "True"
      ]
     },
     "execution_count": 26,
     "metadata": {},
     "output_type": "execute_result"
    }
   ],
   "source": [
    "2 != 5"
   ]
  }
 ],
 "metadata": {
  "kernelspec": {
   "display_name": "Python 3 (ipykernel)",
   "language": "python",
   "name": "python3"
  },
  "language_info": {
   "codemirror_mode": {
    "name": "ipython",
    "version": 3
   },
   "file_extension": ".py",
   "mimetype": "text/x-python",
   "name": "python",
   "nbconvert_exporter": "python",
   "pygments_lexer": "ipython3",
   "version": "3.11.4"
  }
 },
 "nbformat": 4,
 "nbformat_minor": 5
}
