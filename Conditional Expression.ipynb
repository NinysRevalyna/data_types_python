{
 "cells": [
  {
   "cell_type": "markdown",
   "id": "11da1a3c",
   "metadata": {},
   "source": [
    "# IF"
   ]
  },
  {
   "cell_type": "markdown",
   "id": "67ee7eb2",
   "metadata": {},
   "source": [
    "- In python, expressions are placed after if and the decision is determined based on the truth value of the expression.\n",
    "- If the expression is evaluated as True, then the block of statements within the if statement will be executed\n",
    "- By convention, this block has indentation following a colon (:)\n",
    "- If the expression is evaluated as False, then the next block (after the if statement) will be executed"
   ]
  },
  {
   "cell_type": "code",
   "execution_count": 1,
   "id": "d4633ff8",
   "metadata": {},
   "outputs": [
    {
     "name": "stdout",
     "output_type": "stream",
     "text": [
      "Benar namaku Ko Yu Rim\n"
     ]
    }
   ],
   "source": [
    "namaku = 'Ko Yu Rim'\n",
    "\n",
    "if namaku:\n",
    "    print('Benar namaku {}'.format(namaku))"
   ]
  },
  {
   "cell_type": "code",
   "execution_count": 2,
   "id": "dc301123",
   "metadata": {},
   "outputs": [
    {
     "name": "stdout",
     "output_type": "stream",
     "text": [
      "umur saya adalah 24\n"
     ]
    }
   ],
   "source": [
    "usiaku = 24\n",
    "\n",
    "if usiaku:\n",
    "    print('umur saya adalah {}'.format(usiaku))"
   ]
  },
  {
   "cell_type": "markdown",
   "id": "b050725e",
   "metadata": {},
   "source": [
    "Task 1"
   ]
  },
  {
   "cell_type": "code",
   "execution_count": 3,
   "id": "04fbf396",
   "metadata": {},
   "outputs": [
    {
     "name": "stdout",
     "output_type": "stream",
     "text": [
      "saya suka grup musik Red Velvet\n"
     ]
    }
   ],
   "source": [
    "fav = 'Red Velvet'\n",
    "\n",
    "if fav:\n",
    "    print('saya suka grup musik {}'.format(fav))"
   ]
  },
  {
   "cell_type": "markdown",
   "id": "d3817afc",
   "metadata": {},
   "source": [
    "# Else"
   ]
  },
  {
   "cell_type": "markdown",
   "id": "da2fba14",
   "metadata": {},
   "source": [
    "- The else statement can be combined with the if statement as a way out when the evaluation condition/result is false\n",
    "- else is optional and singleton"
   ]
  },
  {
   "cell_type": "code",
   "execution_count": 4,
   "id": "c6e82d0f",
   "metadata": {},
   "outputs": [
    {
     "name": "stdout",
     "output_type": "stream",
     "text": [
      "Usia Anda :21\n"
     ]
    }
   ],
   "source": [
    "usia = int(input('Usia Anda :'))"
   ]
  },
  {
   "cell_type": "code",
   "execution_count": 5,
   "id": "ac0cc3e3",
   "metadata": {},
   "outputs": [
    {
     "name": "stdout",
     "output_type": "stream",
     "text": [
      "20\n"
     ]
    },
    {
     "data": {
      "text/plain": [
       "20"
      ]
     },
     "execution_count": 5,
     "metadata": {},
     "output_type": "execute_result"
    }
   ],
   "source": [
    "int(input())"
   ]
  },
  {
   "cell_type": "code",
   "execution_count": 6,
   "id": "ee644ec6",
   "metadata": {},
   "outputs": [
    {
     "name": "stdout",
     "output_type": "stream",
     "text": [
      "Usia Anda :21\n",
      "Sudah punya KTP\n"
     ]
    }
   ],
   "source": [
    "usia = int(input('Usia Anda :'))\n",
    "\n",
    "if usia >= 17:\n",
    "    print('Sudah punya KTP')\n",
    "else:\n",
    "    print('Belum punya KTP')"
   ]
  },
  {
   "cell_type": "markdown",
   "id": "a0e83ecc",
   "metadata": {},
   "source": [
    "Task 2"
   ]
  },
  {
   "cell_type": "code",
   "execution_count": 7,
   "id": "d1b7c3b5",
   "metadata": {},
   "outputs": [
    {
     "name": "stdout",
     "output_type": "stream",
     "text": [
      "Masukkan IPK :3.89\n",
      "Lulus Cumlaude\n"
     ]
    }
   ],
   "source": [
    "nilai = float(input('Masukkan IPK :'))\n",
    "\n",
    "if nilai >= 3.50:\n",
    "    print('Lulus Cumlaude')\n",
    "else:\n",
    "    print('Non Cumlaude')"
   ]
  },
  {
   "cell_type": "code",
   "execution_count": 8,
   "id": "fd524489",
   "metadata": {},
   "outputs": [
    {
     "name": "stdout",
     "output_type": "stream",
     "text": [
      "Apakah anda sedang menerima beasiswa saat ini? (Ya/Tidak)Ya\n",
      "Anda tidak bisa mengajukan beasiswa lagi\n"
     ]
    }
   ],
   "source": [
    "ket = input('Apakah anda sedang menerima beasiswa saat ini? (Ya/Tidak)')\n",
    "\n",
    "if ket == 'Ya':\n",
    "    print('Anda tidak bisa mengajukan beasiswa lagi')\n",
    "else:\n",
    "    print('Anda dapat mengajukan beasiswa')"
   ]
  },
  {
   "cell_type": "markdown",
   "id": "371a8ebd",
   "metadata": {},
   "source": [
    "# Elif "
   ]
  },
  {
   "cell_type": "markdown",
   "id": "49291296",
   "metadata": {},
   "source": [
    "- Elif is short for else if\n",
    "- Elif is an alternative to nested if\n",
    "- An if statement can be followed by one or more elif statements (optional and not limited)"
   ]
  },
  {
   "cell_type": "code",
   "execution_count": 9,
   "id": "29805445",
   "metadata": {},
   "outputs": [
    {
     "name": "stdout",
     "output_type": "stream",
     "text": [
      "Berapa nilai Anda: 40\n",
      "Anda nilai C\n"
     ]
    }
   ],
   "source": [
    "nilai = int(input('Berapa nilai Anda: '))\n",
    "\n",
    "if nilai >= 80:\n",
    "    print('Anda mendapat nilai A')\n",
    "elif nilai >= 60:\n",
    "    print('Anda mendapat nilai B')\n",
    "else:\n",
    "    print('Anda nilai C')"
   ]
  },
  {
   "cell_type": "markdown",
   "id": "52c44133",
   "metadata": {},
   "source": [
    "Task 1"
   ]
  },
  {
   "cell_type": "code",
   "execution_count": 11,
   "id": "cc77117d",
   "metadata": {},
   "outputs": [
    {
     "name": "stdout",
     "output_type": "stream",
     "text": [
      "Berapa IMT Anda? 27.0\n",
      "Kategori Gemuk (Overweight)\n"
     ]
    }
   ],
   "source": [
    "imt = float(input('Berapa IMT Anda? '))\n",
    "\n",
    "if imt < 17.0:\n",
    "    print('Kategori Sangat Kurus')\n",
    "elif 17.0 <= imt < 18.5:\n",
    "    print('Kategori Kurus')\n",
    "elif 18.5 <= imt < 25.0:\n",
    "    print('Kategori Normal')\n",
    "elif 25.0 <= imt <= 27.0:\n",
    "    print('Kategori Gemuk (Overweight)')\n",
    "else:\n",
    "    print('Kategori Gemuk (Obesitas)')"
   ]
  }
 ],
 "metadata": {
  "kernelspec": {
   "display_name": "Python 3 (ipykernel)",
   "language": "python",
   "name": "python3"
  },
  "language_info": {
   "codemirror_mode": {
    "name": "ipython",
    "version": 3
   },
   "file_extension": ".py",
   "mimetype": "text/x-python",
   "name": "python",
   "nbconvert_exporter": "python",
   "pygments_lexer": "ipython3",
   "version": "3.11.4"
  }
 },
 "nbformat": 4,
 "nbformat_minor": 5
}
