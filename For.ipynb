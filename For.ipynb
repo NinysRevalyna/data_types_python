{
 "cells": [
  {
   "cell_type": "markdown",
   "id": "68934216",
   "metadata": {},
   "source": [
    "# For"
   ]
  },
  {
   "cell_type": "markdown",
   "id": "89860b29",
   "metadata": {},
   "source": [
    "- for is a function that can loop over each type of variable in the form of a collection or sequence\n",
    "- The variable in question can be a list, string, or range\n",
    "- If a list or sequence contains an expression, it will be evaluated first\n",
    "- Then the first item in the sequence/list will be assigned as the iterating_var variable\n",
    "- Afterwards, the block of statements will be executed, continuing to the next item, repeating itself, until the entire sequence is completed"
   ]
  },
  {
   "cell_type": "code",
   "execution_count": 1,
   "id": "f17ac3e4",
   "metadata": {},
   "outputs": [
    {
     "name": "stdout",
     "output_type": "stream",
     "text": [
      "huruf d\n",
      "huruf a\n",
      "huruf t\n",
      "huruf a\n"
     ]
    }
   ],
   "source": [
    "for i in 'data':\n",
    "    print('huruf {}'.format(i))"
   ]
  },
  {
   "cell_type": "code",
   "execution_count": 2,
   "id": "c0b35fbd",
   "metadata": {},
   "outputs": [
    {
     "name": "stdout",
     "output_type": "stream",
     "text": [
      "d\n",
      "a\n",
      "t\n",
      "a\n"
     ]
    }
   ],
   "source": [
    "for a in 'data':\n",
    "    print(a)"
   ]
  },
  {
   "cell_type": "code",
   "execution_count": 3,
   "id": "e0911b54",
   "metadata": {},
   "outputs": [
    {
     "name": "stdout",
     "output_type": "stream",
     "text": [
      "Warna merah\n",
      "Warna kuning\n",
      "Warna hijau\n"
     ]
    }
   ],
   "source": [
    "color = ['merah', 'kuning', 'hijau']\n",
    "\n",
    "for i in color:\n",
    "    print('Warna {}'.format(i))"
   ]
  },
  {
   "cell_type": "markdown",
   "id": "57583429",
   "metadata": {},
   "source": [
    "Task 1"
   ]
  },
  {
   "cell_type": "code",
   "execution_count": 4,
   "id": "a0a15090",
   "metadata": {},
   "outputs": [
    {
     "name": "stdout",
     "output_type": "stream",
     "text": [
      "k\n",
      "a\n",
      "m\n",
      "p\n",
      "u\n",
      "s\n"
     ]
    }
   ],
   "source": [
    "for i in 'kampus':\n",
    "    print(i)"
   ]
  },
  {
   "cell_type": "code",
   "execution_count": 5,
   "id": "2c4167ca",
   "metadata": {},
   "outputs": [
    {
     "name": "stdout",
     "output_type": "stream",
     "text": [
      "['irene', 20, 53.0]\n",
      "['irene', 20, 53.0]\n",
      "['irene', 20, 53.0]\n"
     ]
    }
   ],
   "source": [
    "data = ['irene', 20, 53.0]\n",
    "\n",
    "for i in data:\n",
    "    print(data)"
   ]
  },
  {
   "cell_type": "code",
   "execution_count": 6,
   "id": "8351438c",
   "metadata": {},
   "outputs": [
    {
     "name": "stdout",
     "output_type": "stream",
     "text": [
      "Ini buah mangga\n",
      "Ini buah jambu\n",
      "Ini buah apel\n"
     ]
    }
   ],
   "source": [
    "buah = ['mangga', 'jambu', 'apel']\n",
    "\n",
    "for i in buah:\n",
    "    print('Ini buah {}'.format(i))"
   ]
  },
  {
   "cell_type": "markdown",
   "id": "18590352",
   "metadata": {},
   "source": [
    "# Range"
   ]
  },
  {
   "cell_type": "code",
   "execution_count": 7,
   "id": "b81bcd61",
   "metadata": {},
   "outputs": [
    {
     "name": "stdout",
     "output_type": "stream",
     "text": [
      "0\n",
      "1\n",
      "2\n"
     ]
    }
   ],
   "source": [
    "for i in range(3):\n",
    "    print(i)"
   ]
  },
  {
   "cell_type": "code",
   "execution_count": 8,
   "id": "128a58d1",
   "metadata": {},
   "outputs": [
    {
     "name": "stdout",
     "output_type": "stream",
     "text": [
      "1\n",
      "2\n",
      "3\n"
     ]
    }
   ],
   "source": [
    "for i in range(1,4):\n",
    "    print(i)"
   ]
  },
  {
   "cell_type": "markdown",
   "id": "14f0e4b1",
   "metadata": {},
   "source": [
    "Task 2"
   ]
  },
  {
   "cell_type": "code",
   "execution_count": 9,
   "id": "a6da9e39",
   "metadata": {},
   "outputs": [
    {
     "name": "stdout",
     "output_type": "stream",
     "text": [
      "0\n",
      "1\n",
      "2\n",
      "3\n",
      "4\n",
      "5\n",
      "6\n",
      "7\n",
      "8\n",
      "9\n"
     ]
    }
   ],
   "source": [
    "for i in range(10):\n",
    "    print(i)"
   ]
  },
  {
   "cell_type": "code",
   "execution_count": 10,
   "id": "6fa615ba",
   "metadata": {},
   "outputs": [
    {
     "name": "stdout",
     "output_type": "stream",
     "text": [
      "6\n",
      "7\n",
      "8\n",
      "9\n"
     ]
    }
   ],
   "source": [
    "for i in range(6,10):\n",
    "    print(i)"
   ]
  },
  {
   "cell_type": "markdown",
   "id": "45f386b9",
   "metadata": {},
   "source": [
    "# For Multilevel"
   ]
  },
  {
   "cell_type": "code",
   "execution_count": 11,
   "id": "d23e8b42",
   "metadata": {},
   "outputs": [
    {
     "name": "stdout",
     "output_type": "stream",
     "text": [
      "* * * \n",
      "* * \n",
      "* \n"
     ]
    }
   ],
   "source": [
    "for row in range(3):\n",
    "    for col in range(3):\n",
    "        if row == 0 and col <= 2:\n",
    "            print('*', end = ' ')\n",
    "        elif row == 1 and col <= 1:\n",
    "            print('*', end = ' ')\n",
    "        elif row == 2 and col == 0:\n",
    "            print('*', end = ' ')\n",
    "    print()"
   ]
  },
  {
   "cell_type": "markdown",
   "id": "8a405278",
   "metadata": {},
   "source": [
    "Task 3"
   ]
  },
  {
   "cell_type": "code",
   "execution_count": 13,
   "id": "93c1eed0",
   "metadata": {},
   "outputs": [
    {
     "name": "stdout",
     "output_type": "stream",
     "text": [
      "* * * * \n",
      "* * * \n",
      "* * \n",
      "* \n"
     ]
    }
   ],
   "source": [
    "for row in range(4):\n",
    "    for col in range(4):\n",
    "        if row == 0 and col <= 3:\n",
    "            print('*', end = ' ')\n",
    "        elif row == 1 and col <= 2:\n",
    "            print('*', end = ' ')\n",
    "        elif row == 2 and col <= 1:\n",
    "            print('*', end = ' ')\n",
    "        elif row == 3 and col == 0:\n",
    "            print('*', end = ' ')\n",
    "    print()"
   ]
  }
 ],
 "metadata": {
  "kernelspec": {
   "display_name": "Python 3 (ipykernel)",
   "language": "python",
   "name": "python3"
  },
  "language_info": {
   "codemirror_mode": {
    "name": "ipython",
    "version": 3
   },
   "file_extension": ".py",
   "mimetype": "text/x-python",
   "name": "python",
   "nbconvert_exporter": "python",
   "pygments_lexer": "ipython3",
   "version": "3.11.4"
  }
 },
 "nbformat": 4,
 "nbformat_minor": 5
}
