{
 "cells": [
  {
   "cell_type": "markdown",
   "id": "082cc24b",
   "metadata": {},
   "source": [
    "# Dictionary"
   ]
  },
  {
   "cell_type": "markdown",
   "id": "b99eb109",
   "metadata": {},
   "source": [
    "A dictionary in Python is a collection of unordered key-value pairs. Dictionaries can be used to store small to large data. To access the data, we must know the key. In Python, a dictionary is defined with curly {} and the following additional definition:\n",
    "- Each element of a key-value pair is separated by a comma (,)\n",
    "- Key and value are separated by a colon (:)\n",
    "- Keys and values can be any type of variable/object"
   ]
  },
  {
   "cell_type": "code",
   "execution_count": 1,
   "id": "7f32b017",
   "metadata": {},
   "outputs": [],
   "source": [
    "a = {'nama': 'Nam Do san', 'usia': 25}"
   ]
  },
  {
   "cell_type": "code",
   "execution_count": 2,
   "id": "cba02524",
   "metadata": {},
   "outputs": [
    {
     "data": {
      "text/plain": [
       "dict"
      ]
     },
     "execution_count": 2,
     "metadata": {},
     "output_type": "execute_result"
    }
   ],
   "source": [
    "type(a)"
   ]
  },
  {
   "cell_type": "code",
   "execution_count": 3,
   "id": "38854e26",
   "metadata": {},
   "outputs": [
    {
     "data": {
      "text/plain": [
       "'Nam Do san'"
      ]
     },
     "execution_count": 3,
     "metadata": {},
     "output_type": "execute_result"
    }
   ],
   "source": [
    "a['nama']"
   ]
  },
  {
   "cell_type": "markdown",
   "id": "e3e78f3d",
   "metadata": {},
   "source": [
    "Dictionaries are not included in the implementation of sequences, so they cannot be called with index sequences. For example, in the following example it is tried with index 0, but it produces an error (KeyError) because there is no key (key) 0."
   ]
  },
  {
   "cell_type": "markdown",
   "id": "7a6e3703",
   "metadata": {},
   "source": [
    "Task 1"
   ]
  },
  {
   "cell_type": "code",
   "execution_count": 4,
   "id": "0dded501",
   "metadata": {},
   "outputs": [],
   "source": [
    "group = {'nama': ['Ninys Revalyna', 'Cristin', 'Tria','Elsha'],\n",
    "         'pathway': 'Data Analyst',\n",
    "         'kelompok': 4}"
   ]
  },
  {
   "cell_type": "code",
   "execution_count": 5,
   "id": "ebff2b46",
   "metadata": {},
   "outputs": [
    {
     "data": {
      "text/plain": [
       "'Cristin'"
      ]
     },
     "execution_count": 5,
     "metadata": {},
     "output_type": "execute_result"
    }
   ],
   "source": [
    "group['nama'][1]"
   ]
  },
  {
   "cell_type": "code",
   "execution_count": 6,
   "id": "47f844e6",
   "metadata": {},
   "outputs": [],
   "source": [
    "dict1 = {'nama':{'nama_1':'ninys',\n",
    "                'nama_2':'cristin',\n",
    "                'nama_3':'tria'}\n",
    "        }"
   ]
  },
  {
   "cell_type": "code",
   "execution_count": 7,
   "id": "1a9263e3",
   "metadata": {},
   "outputs": [
    {
     "data": {
      "text/plain": [
       "'ninys'"
      ]
     },
     "execution_count": 7,
     "metadata": {},
     "output_type": "execute_result"
    }
   ],
   "source": [
    "dict1['nama']['nama_1']"
   ]
  }
 ],
 "metadata": {
  "kernelspec": {
   "display_name": "Python 3 (ipykernel)",
   "language": "python",
   "name": "python3"
  },
  "language_info": {
   "codemirror_mode": {
    "name": "ipython",
    "version": 3
   },
   "file_extension": ".py",
   "mimetype": "text/x-python",
   "name": "python",
   "nbconvert_exporter": "python",
   "pygments_lexer": "ipython3",
   "version": "3.11.4"
  }
 },
 "nbformat": 4,
 "nbformat_minor": 5
}
